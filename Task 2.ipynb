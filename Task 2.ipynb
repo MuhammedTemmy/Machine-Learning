{
 "cells": [
  {
   "cell_type": "markdown",
   "metadata": {
    "id": "fLT-oyLHcfE6"
   },
   "source": [
    "## Task 2 \n",
    "### Regression using PyTorch "
   ]
  },
  {
   "cell_type": "markdown",
   "metadata": {},
   "source": [
    "#### PART 1"
   ]
  },
  {
   "cell_type": "markdown",
   "metadata": {},
   "source": [
    "##### QUESTION 1"
   ]
  },
  {
   "cell_type": "code",
   "execution_count": 1,
   "metadata": {
    "colab": {
     "base_uri": "https://localhost:8080/"
    },
    "id": "XA9okW-Sb1ZM",
    "outputId": "42c2624e-be04-44ba-ad08-0eaca5511a0b"
   },
   "outputs": [
    {
     "name": "stdout",
     "output_type": "stream",
     "text": [
      "Q1:dy/dx = 7302.0\n"
     ]
    }
   ],
   "source": [
    "import torch\n",
    "\n",
    "# Create x and c as scalar tensors with the value 1.\n",
    "x = torch.tensor([1.], requires_grad=True)\n",
    "c = torch.tensor([1.], requires_grad=True)\n",
    "\n",
    "#Set u in terms of x and c\n",
    "u = 3 * x**2 + c\n",
    "\n",
    "#Using PyTorch's operators and functions, define y in terms of u.\n",
    "y = 4 * (u**2 + 3)**2 + u\n",
    "\n",
    "\n",
    "#Solving for dy/dx using PyTorch's autograd\n",
    "y.backward()\n",
    "\n",
    "\n",
    "print(\"Q1:dy/dx =\", x.grad.item())\n"
   ]
  },
  {
   "cell_type": "markdown",
   "metadata": {
    "id": "DDOWxuEhcmQd"
   },
   "source": [
    "##### QUESTION 2"
   ]
  },
  {
   "cell_type": "code",
   "execution_count": 2,
   "metadata": {
    "colab": {
     "base_uri": "https://localhost:8080/"
    },
    "id": "2wCqdpUecpne",
    "outputId": "cfe5d126-51d7-4aee-f934-41e2d63d582a"
   },
   "outputs": [
    {
     "name": "stdout",
     "output_type": "stream",
     "text": [
      "Q2:dy/dx = 48.0\n"
     ]
    }
   ],
   "source": [
    "import torch\n",
    "\n",
    "# Create x and c as scalar tensors with the value 1.\n",
    "x = torch.tensor([1.0], requires_grad=True)\n",
    "c = torch.tensor([1.0], requires_grad=True)\n",
    "\n",
    "#Set v in terms of x \n",
    "v = 2 * x\n",
    "\n",
    "#Using PyTorch's operators and functions, define y in terms of v and c\n",
    "y = 3 * (2 * v**2 + 2) + 2 * c**4\n",
    "\n",
    "#solving for dy/dx using PyTorch's autograd\n",
    "y.backward()\n",
    "\n",
    "print(\"Q2:dy/dx =\", x.grad.item())\n"
   ]
  },
  {
   "cell_type": "markdown",
   "metadata": {
    "id": "IXzmG5EycvK8"
   },
   "source": [
    "##### QUESTION 3"
   ]
  },
  {
   "cell_type": "code",
   "execution_count": 3,
   "metadata": {
    "colab": {
     "base_uri": "https://localhost:8080/"
    },
    "id": "sSJN7CJUc1Rc",
    "outputId": "a8efeda4-0d64-4470-b6ff-8693625c2bc2"
   },
   "outputs": [
    {
     "name": "stdout",
     "output_type": "stream",
     "text": [
      "Q3:dy/dx = 3.000008976686944e+24\n"
     ]
    }
   ],
   "source": [
    "import torch\n",
    "\n",
    "x = torch.tensor([1.], requires_grad=True)\n",
    "\n",
    "# Define the equations for l in term of r, s in term of r, v in term of r, u in term of l, and y in terms of u\n",
    "r = x\n",
    "v = 10 * r\n",
    "s = v ** 2\n",
    "l = (1/2) * s ** 3\n",
    "u = (l + l ** 2)**2\n",
    "y = 2 * u\n",
    "\n",
    "# Using PyTorch's automated differentiation, compute the derivative of y with respect to x.\n",
    "y.backward()\n",
    "dy_dr = r.grad\n",
    "\n",
    "\n",
    "print(\"Q3:dy/dx =\", dy_dr.item())\n"
   ]
  },
  {
   "cell_type": "markdown",
   "metadata": {
    "id": "PGzit1SqdFvO"
   },
   "source": [
    "##### QUESTION 4\n",
    "Hand worked and attached as a file"
   ]
  },
  {
   "cell_type": "markdown",
   "metadata": {},
   "source": [
    "#### PART 2"
   ]
  },
  {
   "cell_type": "code",
   "execution_count": 4,
   "metadata": {
    "colab": {
     "base_uri": "https://localhost:8080/"
    },
    "id": "W_rhWQWOdDsj",
    "outputId": "eb64a72d-8897-4db7-857b-cfb930003d16"
   },
   "outputs": [
    {
     "name": "stdout",
     "output_type": "stream",
     "text": [
      "value of a: tensor([-0.1082], requires_grad=True)\n",
      "value of b: tensor([1.4381], requires_grad=True)\n",
      "value of c: tensor([3.0087], requires_grad=True)\n"
     ]
    }
   ],
   "source": [
    "import torch\n",
    "\n",
    "X = torch.tensor([-2, -1.6, -1.2, -0.8, -0.4, 0, 0.4, 0.8, 1.2, 1.6, 2], dtype=torch.float32)\n",
    "y = torch.tensor([1.71828183, 2.02554093, 2.4221188, 2.8918247, 3.42140276, 4, 4.61873075, 5.27032005, 5.94881164, 6.64932896, 7.36787944], dtype=torch.float32)\n",
    "\n",
    "a = torch.tensor([0.], requires_grad=True)\n",
    "b = torch.tensor([0.], requires_grad=True)\n",
    "c = torch.tensor([0.], requires_grad=True)\n",
    "\n",
    "#learning rate and iteration\n",
    "learning_rate = 0.01\n",
    "iterations = 1000\n",
    "\n",
    "for i in range(iterations):\n",
    "    # forward pass\n",
    "    y_pred = torch.exp(-(a * X ** 2)) + b * X + c\n",
    "    \n",
    "    # calculate loss\n",
    "    loss = torch.mean((y - y_pred) ** 2)\n",
    "    \n",
    "    # backward pass\n",
    "    loss.backward()\n",
    "    \n",
    "    # update weights\n",
    "    with torch.no_grad():\n",
    "        a -= learning_rate * a.grad\n",
    "        b -= learning_rate * b.grad\n",
    "        c -= learning_rate * c.grad\n",
    "        \n",
    "        # reset gradients to zero\n",
    "        a.grad = None\n",
    "        b.grad = None\n",
    "        c.grad = None\n",
    "\n",
    "print(\"value of a:\", a)\n",
    "print(\"value of b:\", b)\n",
    "print(\"value of c:\", c)\n"
   ]
  }
 ],
 "metadata": {
  "colab": {
   "provenance": []
  },
  "kernelspec": {
   "display_name": "Python 3 (ipykernel)",
   "language": "python",
   "name": "python3"
  },
  "language_info": {
   "codemirror_mode": {
    "name": "ipython",
    "version": 3
   },
   "file_extension": ".py",
   "mimetype": "text/x-python",
   "name": "python",
   "nbconvert_exporter": "python",
   "pygments_lexer": "ipython3",
   "version": "3.9.13"
  }
 },
 "nbformat": 4,
 "nbformat_minor": 1
}
